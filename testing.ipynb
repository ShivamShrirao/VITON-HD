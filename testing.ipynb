{
 "cells": [
  {
   "cell_type": "code",
   "execution_count": 1,
   "id": "68f625ea",
   "metadata": {},
   "outputs": [
    {
     "name": "stdout",
     "output_type": "stream",
     "text": [
      "Wed Oct  6 13:37:35 2021       \n",
      "+-----------------------------------------------------------------------------+\n",
      "| NVIDIA-SMI 470.63.01    Driver Version: 470.63.01    CUDA Version: 11.4     |\n",
      "|-------------------------------+----------------------+----------------------+\n",
      "| GPU  Name        Persistence-M| Bus-Id        Disp.A | Volatile Uncorr. ECC |\n",
      "| Fan  Temp  Perf  Pwr:Usage/Cap|         Memory-Usage | GPU-Util  Compute M. |\n",
      "|                               |                      |               MIG M. |\n",
      "|===============================+======================+======================|\n",
      "|   0  Tesla V100-PCIE...  Off  | 00000001:00:00.0 Off |                    0 |\n",
      "| N/A   28C    P0    34W / 250W |      0MiB / 16160MiB |      2%      Default |\n",
      "|                               |                      |                  N/A |\n",
      "+-------------------------------+----------------------+----------------------+\n",
      "                                                                               \n",
      "+-----------------------------------------------------------------------------+\n",
      "| Processes:                                                                  |\n",
      "|  GPU   GI   CI        PID   Type   Process name                  GPU Memory |\n",
      "|        ID   ID                                                   Usage      |\n",
      "|=============================================================================|\n",
      "|  No running processes found                                                 |\n",
      "+-----------------------------------------------------------------------------+\n"
     ]
    }
   ],
   "source": [
    "!nvidia-smi"
   ]
  },
  {
   "cell_type": "code",
   "execution_count": 2,
   "id": "6865d5c5",
   "metadata": {},
   "outputs": [],
   "source": [
    "%load_ext autoreload\n",
    "%autoreload 2\n",
    "%load_ext line_profiler"
   ]
  },
  {
   "cell_type": "code",
   "execution_count": 3,
   "id": "e462d2be",
   "metadata": {},
   "outputs": [],
   "source": [
    "from train import *"
   ]
  },
  {
   "cell_type": "code",
   "execution_count": 4,
   "id": "1feb2733",
   "metadata": {},
   "outputs": [],
   "source": [
    "args = get_args()"
   ]
  },
  {
   "cell_type": "code",
   "execution_count": 5,
   "id": "6a8c9bc5",
   "metadata": {},
   "outputs": [
    {
     "name": "stdout",
     "output_type": "stream",
     "text": [
      "Namespace(batch_size=16, checkpoint_dir='./checkpoints/', dataset_dir='./datasets/', dataset_mode='train', distributed=False, epochs=100, ff='/home/azureuser/.local/share/jupyter/runtime/kernel-d10af28b-d9ac-4701-8879-0de392df52eb.json', grid_size=5, init_type='xavier', init_variance=0.02, load_height=1024, load_width=768, local_rank=0, log_interval=100, memory_format='channels_last', ngf=64, no_lsgan=False, norm_G='spectralaliasinstance', num_upsampling_layers='most', project='VITON-HD', seed=3407, semantic_nc=13, shuffle=False, sync_bn=False, use_amp=False, use_wandb=False, workers=4)\n"
     ]
    }
   ],
   "source": [
    "print(args)"
   ]
  },
  {
   "cell_type": "code",
   "execution_count": 6,
   "id": "51963233",
   "metadata": {},
   "outputs": [],
   "source": [
    "args.batch_size = 8\n",
    "args.use_amp = True\n",
    "args.workers = 1"
   ]
  },
  {
   "cell_type": "code",
   "execution_count": 7,
   "id": "d5f7b3e1",
   "metadata": {},
   "outputs": [],
   "source": [
    "seed_everything(args.seed)"
   ]
  },
  {
   "cell_type": "code",
   "execution_count": 8,
   "id": "59d1ec87",
   "metadata": {},
   "outputs": [],
   "source": [
    "train_dataset = VITONDataset(args)\n",
    "train_loader = VITONDataLoader(args, train_dataset)"
   ]
  },
  {
   "cell_type": "code",
   "execution_count": 14,
   "id": "4b0a702a",
   "metadata": {
    "scrolled": true
   },
   "outputs": [
    {
     "name": "stdout",
     "output_type": "stream",
     "text": [
      "CPU times: user 192 ms, sys: 140 ms, total: 332 ms\n",
      "Wall time: 2 s\n"
     ]
    }
   ],
   "source": [
    "%%time\n",
    "# %lprun -f train_dataset.__getitem__ \\\n",
    "s = next(iter(train_loader.data_loader))\n",
    "s = train_loader.device_augment(s, 'cuda', torch.channels_last)"
   ]
  },
  {
   "cell_type": "code",
   "execution_count": 10,
   "id": "8c921d2b",
   "metadata": {
    "scrolled": true
   },
   "outputs": [
    {
     "name": "stdout",
     "output_type": "stream",
     "text": [
      "parse_target_down torch.Size([8, 13, 256, 192])\n",
      "parse_agnostic torch.Size([8, 13, 1024, 768])\n",
      "pose torch.Size([8, 3, 1024, 768])\n",
      "cloth torch.Size([8, 3, 1024, 768])\n",
      "cloth_mask torch.Size([8, 1, 1024, 768])\n"
     ]
    }
   ],
   "source": [
    "for k,v in s.items():\n",
    "    print(k, v.shape)"
   ]
  },
  {
   "cell_type": "code",
   "execution_count": 11,
   "id": "2d2405eb",
   "metadata": {
    "scrolled": true
   },
   "outputs": [],
   "source": [
    "# %%time\n",
    "# %lprun -f train_dataset.__getitem__ \\\n",
    "# s = train_dataset[0]"
   ]
  },
  {
   "cell_type": "code",
   "execution_count": null,
   "id": "262f769a",
   "metadata": {},
   "outputs": [],
   "source": []
  }
 ],
 "metadata": {
  "kernelspec": {
   "display_name": "Python 3",
   "language": "python",
   "name": "python3"
  },
  "language_info": {
   "codemirror_mode": {
    "name": "ipython",
    "version": 3
   },
   "file_extension": ".py",
   "mimetype": "text/x-python",
   "name": "python",
   "nbconvert_exporter": "python",
   "pygments_lexer": "ipython3",
   "version": "3.8.11"
  }
 },
 "nbformat": 4,
 "nbformat_minor": 5
}
